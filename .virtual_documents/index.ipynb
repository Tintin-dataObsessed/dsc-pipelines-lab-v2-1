


import pandas as pd
import numpy as np
from sklearn.preprocessing import StandardScaler
from sklearn.neighbors import KNeighborsClassifier
from sklearn.model_selection import train_test_split, GridSearchCV
from sklearn.ensemble import RandomForestClassifier
from sklearn.pipeline import Pipeline

import warnings
warnings.filterwarnings('ignore')





# Import the data
df = pd.read_csv('winequality-red.csv')


# Print the first five rows
df.head()





# Print the summary stats of all columns
df.describe()





# Split the predictor and target variables
y = df['quality']
X = df.drop(columns=['quality'])

# Split into training and test sets
X_train, X_test, y_train, y_test = train_test_split(X,y, test_size=0.25, random_state=42)





# Instantiate StandardScaler
scaler = StandardScaler()

# Transform the training and test sets
scaled_data_train = scaler.fit_transform(X_train)
scaled_data_test = scaler.transform (X_test)

# Convert into a DataFrame
scaled_df_train = pd.DataFrame(scaled_data_train, columns=X_train.columns)
scaled_df_train.head()





# Instantiate KNeighborsClassifier
clf = KNeighborsClassifier()

# Fit the classifier
clf.fit(X_train,y_train)





# Print the accuracy on test set
accuracy = clf.score(scaled_data_test,y_test)
print("Accuracy:",accuracy)





# Build a pipeline with StandardScaler and KNeighborsClassifier
scaled_pipeline_1 = Pipeline([('ss', StandardScaler()),('estimator', KNeighborsClassifier())])





# Fit the training data to pipeline
scaled_pipeline_1.fit(X_train,y_train)
accuracy = scaled_pipeline_1.score(X_test,y_test)

# Print the accuracy on test set
print("Accuracy:",accuracy)





# Build a pipeline with StandardScaler and RandomForestClassifier
scaled_pipeline_2 = Pipeline([('ss', StandardScaler()),('RF', RandomForestClassifier(random_state=123))])





# Define the grid
grid = [{'RF__max_depth': [4, 5, 6], 
         'RF__min_samples_split': [2, 5, 10], 
         'RF__min_samples_leaf': [1, 3, 5]}]





# Define a grid search
gridsearch = GridSearchCV(estimator=scaled_pipeline_2, 
                          param_grid=grid, 
                          scoring='accuracy', 
                          cv=5)





# Fit the training data
gridsearch.fit(X_train, y_train)
# Print the accuracy on test set
gridsearch.score(X_test, y_test)









